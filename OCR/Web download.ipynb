{
 "cells": [
  {
   "cell_type": "code",
   "execution_count": 1,
   "metadata": {},
   "outputs": [],
   "source": [
    "import requests"
   ]
  },
  {
   "cell_type": "code",
   "execution_count": 5,
   "metadata": {},
   "outputs": [
    {
     "name": "stdout",
     "output_type": "stream",
     "text": [
      "http://ceodelhi.gov.in/engdata/AC43/U05A43P1.pdf\n",
      "http://ceodelhi.gov.in/engdata/AC43/U05A43P2.pdf\n",
      "http://ceodelhi.gov.in/engdata/AC43/U05A43P3.pdf\n",
      "http://ceodelhi.gov.in/engdata/AC43/U05A43P4.pdf\n",
      "http://ceodelhi.gov.in/engdata/AC43/U05A43P5.pdf\n",
      "http://ceodelhi.gov.in/engdata/AC43/U05A43P6.pdf\n",
      "http://ceodelhi.gov.in/engdata/AC43/U05A43P7.pdf\n",
      "http://ceodelhi.gov.in/engdata/AC43/U05A43P8.pdf\n",
      "http://ceodelhi.gov.in/engdata/AC43/U05A43P9.pdf\n",
      "http://ceodelhi.gov.in/engdata/AC43/U05A43P10.pdf\n",
      "http://ceodelhi.gov.in/engdata/AC43/U05A43P11.pdf\n",
      "http://ceodelhi.gov.in/engdata/AC43/U05A43P12.pdf\n",
      "http://ceodelhi.gov.in/engdata/AC43/U05A43P13.pdf\n",
      "http://ceodelhi.gov.in/engdata/AC43/U05A43P14.pdf\n",
      "http://ceodelhi.gov.in/engdata/AC43/U05A43P15.pdf\n",
      "http://ceodelhi.gov.in/engdata/AC43/U05A43P16.pdf\n",
      "http://ceodelhi.gov.in/engdata/AC43/U05A43P17.pdf\n",
      "http://ceodelhi.gov.in/engdata/AC43/U05A43P18.pdf\n",
      "http://ceodelhi.gov.in/engdata/AC43/U05A43P19.pdf\n",
      "http://ceodelhi.gov.in/engdata/AC43/U05A43P20.pdf\n",
      "http://ceodelhi.gov.in/engdata/AC43/U05A43P21.pdf\n",
      "http://ceodelhi.gov.in/engdata/AC43/U05A43P22.pdf\n",
      "http://ceodelhi.gov.in/engdata/AC43/U05A43P23.pdf\n",
      "http://ceodelhi.gov.in/engdata/AC43/U05A43P24.pdf\n",
      "http://ceodelhi.gov.in/engdata/AC43/U05A43P25.pdf\n",
      "http://ceodelhi.gov.in/engdata/AC43/U05A43P26.pdf\n",
      "http://ceodelhi.gov.in/engdata/AC43/U05A43P27.pdf\n",
      "http://ceodelhi.gov.in/engdata/AC43/U05A43P28.pdf\n",
      "http://ceodelhi.gov.in/engdata/AC43/U05A43P29.pdf\n",
      "http://ceodelhi.gov.in/engdata/AC43/U05A43P30.pdf\n",
      "http://ceodelhi.gov.in/engdata/AC43/U05A43P31.pdf\n",
      "http://ceodelhi.gov.in/engdata/AC43/U05A43P32.pdf\n",
      "http://ceodelhi.gov.in/engdata/AC43/U05A43P33.pdf\n",
      "http://ceodelhi.gov.in/engdata/AC43/U05A43P34.pdf\n",
      "http://ceodelhi.gov.in/engdata/AC43/U05A43P35.pdf\n"
     ]
    }
   ],
   "source": [
    "file_url = \"http://ceodelhi.gov.in/engdata/AC43/U05A43P1.pdf\"\n",
    "file_url1 = file_url[:-5]\n",
    "file_url2 = file_url[-4:]\n",
    "for x in range(1,36):\n",
    "    file = file_url1 + str(x) + file_url2\n",
    "    part1 = \"electoral\"\n",
    "    part2 = \".pdf\"\n",
    "    part = part1 + str(x) + part2\n",
    "    r = requests.get(file,verify=False)\n",
    "    print (file)\n",
    "    with open(part,\"wb\") as pdf: \n",
    "        for chunk in r.iter_content(chunk_size=1024): \n",
    "  \n",
    "         # writing one chunk at a time to pdf file \n",
    "             if chunk: \n",
    "                 pdf.write(chunk)\n",
    "    "
   ]
  },
  {
   "cell_type": "code",
   "execution_count": 1,
   "metadata": {},
   "outputs": [],
   "source": [
    "from pdf2image import convert_from_path\n",
    "import os"
   ]
  },
  {
   "cell_type": "code",
   "execution_count": 2,
   "metadata": {},
   "outputs": [],
   "source": [
    "os.chdir(r\"C:\\Users\\Rishabh\\Downloads\")"
   ]
  },
  {
   "cell_type": "code",
   "execution_count": 3,
   "metadata": {},
   "outputs": [],
   "source": [
    "pdf_file = \"Udaipurwati-AE2018-Booth-wise.pdf\"\n",
    "pages = convert_from_path(pdf_file,200)\n",
    "pdf_file = pdf_file[:-4]\n",
    "for page in pages:\n",
    "    page.save(\"%s-page%d.jpg\" % (pdf_file,pages.index(page)),\"JPEG\")"
   ]
  },
  {
   "cell_type": "code",
   "execution_count": null,
   "metadata": {},
   "outputs": [],
   "source": []
  },
  {
   "cell_type": "code",
   "execution_count": null,
   "metadata": {},
   "outputs": [],
   "source": []
  }
 ],
 "metadata": {
  "kernelspec": {
   "display_name": "Python 3",
   "language": "python",
   "name": "python3"
  },
  "language_info": {
   "codemirror_mode": {
    "name": "ipython",
    "version": 3
   },
   "file_extension": ".py",
   "mimetype": "text/x-python",
   "name": "python",
   "nbconvert_exporter": "python",
   "pygments_lexer": "ipython3",
   "version": "3.6.5"
  }
 },
 "nbformat": 4,
 "nbformat_minor": 2
}
