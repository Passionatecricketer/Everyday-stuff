{
 "cells": [
  {
   "cell_type": "code",
   "execution_count": 1,
   "metadata": {},
   "outputs": [],
   "source": [
    "import pandas as pd\n",
    "import matplotlib.pyplot as plt\n",
    "import numpy as np"
   ]
  },
  {
   "cell_type": "code",
   "execution_count": 73,
   "metadata": {},
   "outputs": [],
   "source": [
    "df = pd.read_excel(\"Analytics Challenge.xlsx\",\"Data\")"
   ]
  },
  {
   "cell_type": "code",
   "execution_count": 6,
   "metadata": {},
   "outputs": [
    {
     "name": "stdout",
     "output_type": "stream",
     "text": [
      "<class 'pandas.core.frame.DataFrame'>\n",
      "RangeIndex: 30940 entries, 0 to 30939\n",
      "Data columns (total 6 columns):\n",
      "Transaction_ID                       30940 non-null object\n",
      "Profile ID                           30940 non-null int64\n",
      "Date_of_Booking                      30940 non-null datetime64[ns]\n",
      "Date_of_Service_Requested            30940 non-null datetime64[ns]\n",
      "Source                               30940 non-null object\n",
      "Slot of Booking (Hour of the Day)    30940 non-null int64\n",
      "dtypes: datetime64[ns](2), int64(2), object(2)\n",
      "memory usage: 1.4+ MB\n"
     ]
    }
   ],
   "source": [
    "df.info()"
   ]
  },
  {
   "cell_type": "markdown",
   "metadata": {},
   "source": [
    "# ANSWER - 1\n",
    "## Plot of new users acquired every month"
   ]
  },
  {
   "cell_type": "code",
   "execution_count": 106,
   "metadata": {},
   "outputs": [
    {
     "data": {
      "text/plain": [
       "<matplotlib.axes._subplots.AxesSubplot at 0x33af1e10>"
      ]
     },
     "execution_count": 106,
     "metadata": {},
     "output_type": "execute_result"
    },
    {
     "data": {
      "image/png": "[encoded data removed]",
      "text/plain": [
       "<Figure size 1080x432 with 1 Axes>"
      ]
     },
     "metadata": {},
     "output_type": "display_data"
    }
   ],
   "source": [
    "df.groupby(df[\"Date_of_Booking\"].dt.to_period(\"M\"))[\"Profile ID\"].nunique().plot(kind = \"bar\",figsize = (15,6))"
   ]
  },
  {
   "cell_type": "code",
   "execution_count": 21,
   "metadata": {},
   "outputs": [
    {
     "data": {
      "text/html": [
       "<div>\n",
       "<style scoped>\n",
       "    .dataframe tbody tr th:only-of-type {\n",
       "        vertical-align: middle;\n",
       "    }\n",
       "\n",
       "    .dataframe tbody tr th {\n",
       "        vertical-align: top;\n",
       "    }\n",
       "\n",
       "    .dataframe thead th {\n",
       "        text-align: right;\n",
       "    }\n",
       "</style>\n",
       "<table border=\"1\" class=\"dataframe\">\n",
       "  <thead>\n",
       "    <tr style=\"text-align: right;\">\n",
       "      <th></th>\n",
       "      <th>Transaction_ID</th>\n",
       "      <th>Profile ID</th>\n",
       "      <th>Date_of_Booking</th>\n",
       "      <th>Date_of_Service_Requested</th>\n",
       "      <th>Source</th>\n",
       "      <th>Slot of Booking (Hour of the Day)</th>\n",
       "    </tr>\n",
       "    <tr>\n",
       "      <th>Date_of_Booking</th>\n",
       "      <th></th>\n",
       "      <th></th>\n",
       "      <th></th>\n",
       "      <th></th>\n",
       "      <th></th>\n",
       "      <th></th>\n",
       "    </tr>\n",
       "  </thead>\n",
       "  <tbody>\n",
       "    <tr>\n",
       "      <th>2017-12</th>\n",
       "      <td>2761</td>\n",
       "      <td>2761</td>\n",
       "      <td>2761</td>\n",
       "      <td>2761</td>\n",
       "      <td>2761</td>\n",
       "      <td>2761</td>\n",
       "    </tr>\n",
       "    <tr>\n",
       "      <th>2018-01</th>\n",
       "      <td>2675</td>\n",
       "      <td>2675</td>\n",
       "      <td>2675</td>\n",
       "      <td>2675</td>\n",
       "      <td>2675</td>\n",
       "      <td>2675</td>\n",
       "    </tr>\n",
       "    <tr>\n",
       "      <th>2018-02</th>\n",
       "      <td>2403</td>\n",
       "      <td>2403</td>\n",
       "      <td>2403</td>\n",
       "      <td>2403</td>\n",
       "      <td>2403</td>\n",
       "      <td>2403</td>\n",
       "    </tr>\n",
       "    <tr>\n",
       "      <th>2018-03</th>\n",
       "      <td>2600</td>\n",
       "      <td>2600</td>\n",
       "      <td>2600</td>\n",
       "      <td>2600</td>\n",
       "      <td>2600</td>\n",
       "      <td>2600</td>\n",
       "    </tr>\n",
       "    <tr>\n",
       "      <th>2018-04</th>\n",
       "      <td>2483</td>\n",
       "      <td>2483</td>\n",
       "      <td>2483</td>\n",
       "      <td>2483</td>\n",
       "      <td>2483</td>\n",
       "      <td>2483</td>\n",
       "    </tr>\n",
       "    <tr>\n",
       "      <th>2018-05</th>\n",
       "      <td>2510</td>\n",
       "      <td>2510</td>\n",
       "      <td>2510</td>\n",
       "      <td>2510</td>\n",
       "      <td>2510</td>\n",
       "      <td>2510</td>\n",
       "    </tr>\n",
       "    <tr>\n",
       "      <th>2018-06</th>\n",
       "      <td>2571</td>\n",
       "      <td>2571</td>\n",
       "      <td>2571</td>\n",
       "      <td>2571</td>\n",
       "      <td>2571</td>\n",
       "      <td>2571</td>\n",
       "    </tr>\n",
       "    <tr>\n",
       "      <th>2018-07</th>\n",
       "      <td>2616</td>\n",
       "      <td>2616</td>\n",
       "      <td>2616</td>\n",
       "      <td>2616</td>\n",
       "      <td>2616</td>\n",
       "      <td>2616</td>\n",
       "    </tr>\n",
       "    <tr>\n",
       "      <th>2018-08</th>\n",
       "      <td>2556</td>\n",
       "      <td>2556</td>\n",
       "      <td>2556</td>\n",
       "      <td>2556</td>\n",
       "      <td>2556</td>\n",
       "      <td>2556</td>\n",
       "    </tr>\n",
       "    <tr>\n",
       "      <th>2018-09</th>\n",
       "      <td>2508</td>\n",
       "      <td>2508</td>\n",
       "      <td>2508</td>\n",
       "      <td>2508</td>\n",
       "      <td>2508</td>\n",
       "      <td>2508</td>\n",
       "    </tr>\n",
       "    <tr>\n",
       "      <th>2018-10</th>\n",
       "      <td>2680</td>\n",
       "      <td>2680</td>\n",
       "      <td>2680</td>\n",
       "      <td>2680</td>\n",
       "      <td>2680</td>\n",
       "      <td>2680</td>\n",
       "    </tr>\n",
       "    <tr>\n",
       "      <th>2018-11</th>\n",
       "      <td>2577</td>\n",
       "      <td>2577</td>\n",
       "      <td>2577</td>\n",
       "      <td>2577</td>\n",
       "      <td>2577</td>\n",
       "      <td>2577</td>\n",
       "    </tr>\n",
       "  </tbody>\n",
       "</table>\n",
       "</div>"
      ],
      "text/plain": [
       "                 Transaction_ID  Profile ID  Date_of_Booking  \\\n",
       "Date_of_Booking                                                \n",
       "2017-12                    2761        2761             2761   \n",
       "2018-01                    2675        2675             2675   \n",
       "2018-02                    2403        2403             2403   \n",
       "2018-03                    2600        2600             2600   \n",
       "2018-04                    2483        2483             2483   \n",
       "2018-05                    2510        2510             2510   \n",
       "2018-06                    2571        2571             2571   \n",
       "2018-07                    2616        2616             2616   \n",
       "2018-08                    2556        2556             2556   \n",
       "2018-09                    2508        2508             2508   \n",
       "2018-10                    2680        2680             2680   \n",
       "2018-11                    2577        2577             2577   \n",
       "\n",
       "                 Date_of_Service_Requested  Source  \\\n",
       "Date_of_Booking                                      \n",
       "2017-12                               2761    2761   \n",
       "2018-01                               2675    2675   \n",
       "2018-02                               2403    2403   \n",
       "2018-03                               2600    2600   \n",
       "2018-04                               2483    2483   \n",
       "2018-05                               2510    2510   \n",
       "2018-06                               2571    2571   \n",
       "2018-07                               2616    2616   \n",
       "2018-08                               2556    2556   \n",
       "2018-09                               2508    2508   \n",
       "2018-10                               2680    2680   \n",
       "2018-11                               2577    2577   \n",
       "\n",
       "                 Slot of Booking (Hour of the Day)  \n",
       "Date_of_Booking                                     \n",
       "2017-12                                       2761  \n",
       "2018-01                                       2675  \n",
       "2018-02                                       2403  \n",
       "2018-03                                       2600  \n",
       "2018-04                                       2483  \n",
       "2018-05                                       2510  \n",
       "2018-06                                       2571  \n",
       "2018-07                                       2616  \n",
       "2018-08                                       2556  \n",
       "2018-09                                       2508  \n",
       "2018-10                                       2680  \n",
       "2018-11                                       2577  "
      ]
     },
     "execution_count": 21,
     "metadata": {},
     "output_type": "execute_result"
    }
   ],
   "source": [
    "df.groupby(df[\"Date_of_Booking\"].dt.to_period(\"M\")).count()"
   ]
  },
  {
   "cell_type": "code",
   "execution_count": 23,
   "metadata": {},
   "outputs": [],
   "source": [
    "dec = df.groupby(df[\"Date_of_Booking\"].dt.to_period(\"M\")).filter(lambda x: x[\"Date_of_Booking\"].count()==2761)"
   ]
  },
  {
   "cell_type": "markdown",
   "metadata": {},
   "source": [
    "# Answer - 2\n",
    "## 30 Day Repeat for december 2017"
   ]
  },
  {
   "cell_type": "code",
   "execution_count": 33,
   "metadata": {},
   "outputs": [
    {
     "data": {
      "text/plain": [
       "87.79427743571169"
      ]
     },
     "execution_count": 33,
     "metadata": {},
     "output_type": "execute_result"
    }
   ],
   "source": [
    "(len(dec[\"Profile ID\"].value_counts()>1))/(dec[\"Profile ID\"].count())*100"
   ]
  },
  {
   "cell_type": "code",
   "execution_count": 34,
   "metadata": {},
   "outputs": [],
   "source": [
    "jan = df.groupby(df[\"Date_of_Booking\"].dt.to_period(\"M\")).filter(lambda x: x[\"Date_of_Booking\"].count()==2675)\n",
    "feb = df.groupby(df[\"Date_of_Booking\"].dt.to_period(\"M\")).filter(lambda x: x[\"Date_of_Booking\"].count()==2403)\n",
    "mar = df.groupby(df[\"Date_of_Booking\"].dt.to_period(\"M\")).filter(lambda x: x[\"Date_of_Booking\"].count()==2600)"
   ]
  },
  {
   "cell_type": "code",
   "execution_count": 41,
   "metadata": {},
   "outputs": [],
   "source": [
    "quarter = jan.append(feb)\n",
    "quarter = quarter.append(mar)"
   ]
  },
  {
   "cell_type": "markdown",
   "metadata": {},
   "source": [
    "# ANSWER - 3\n",
    "## 90 Day Repeat for first quarter of 2018"
   ]
  },
  {
   "cell_type": "code",
   "execution_count": 43,
   "metadata": {},
   "outputs": [
    {
     "data": {
      "text/plain": [
       "74.29017973430581"
      ]
     },
     "execution_count": 43,
     "metadata": {},
     "output_type": "execute_result"
    }
   ],
   "source": [
    "(len(quarter[\"Profile ID\"].value_counts()>1))/(quarter[\"Profile ID\"].count())*100"
   ]
  },
  {
   "cell_type": "code",
   "execution_count": 46,
   "metadata": {},
   "outputs": [
    {
     "name": "stdout",
     "output_type": "stream",
     "text": [
      "<class 'pandas.core.frame.DataFrame'>\n",
      "RangeIndex: 30940 entries, 0 to 30939\n",
      "Data columns (total 6 columns):\n",
      "Transaction_ID                       30940 non-null object\n",
      "Profile ID                           30940 non-null int64\n",
      "Date_of_Booking                      30940 non-null datetime64[ns]\n",
      "Date_of_Service_Requested            30940 non-null datetime64[ns]\n",
      "Source                               30940 non-null object\n",
      "Slot of Booking (Hour of the Day)    30940 non-null int64\n",
      "dtypes: datetime64[ns](2), int64(2), object(2)\n",
      "memory usage: 1.4+ MB\n"
     ]
    }
   ],
   "source": [
    "df.info()"
   ]
  },
  {
   "cell_type": "code",
   "execution_count": 47,
   "metadata": {},
   "outputs": [],
   "source": [
    "source = pd.get_dummies(df['Source'])"
   ]
  },
  {
   "cell_type": "code",
   "execution_count": 48,
   "metadata": {},
   "outputs": [],
   "source": [
    "df.drop(['Source','Transaction_ID'],axis=1,inplace=True)"
   ]
  },
  {
   "cell_type": "code",
   "execution_count": 49,
   "metadata": {},
   "outputs": [],
   "source": [
    "df = pd.concat([df,source],axis=1)"
   ]
  },
  {
   "cell_type": "code",
   "execution_count": 54,
   "metadata": {},
   "outputs": [],
   "source": [
    "df[\"gap\"] = df[\"Date_of_Service_Requested\"]-df[\"Date_of_Booking\"]"
   ]
  },
  {
   "cell_type": "code",
   "execution_count": 58,
   "metadata": {},
   "outputs": [],
   "source": [
    "df[\"gap\"] = df.gap.dt.days"
   ]
  },
  {
   "cell_type": "code",
   "execution_count": 62,
   "metadata": {},
   "outputs": [],
   "source": [
    "df.drop(['Date_of_Booking','Date_of_Service_Requested'],axis=1,inplace=True)"
   ]
  },
  {
   "cell_type": "code",
   "execution_count": 64,
   "metadata": {},
   "outputs": [],
   "source": [
    "from sklearn.model_selection import train_test_split"
   ]
  },
  {
   "cell_type": "code",
   "execution_count": 65,
   "metadata": {},
   "outputs": [],
   "source": [
    "X_train, X_test, y_train, y_test = train_test_split(df.drop('Profile ID',axis=1), \n",
    "                                                    df['Profile ID'], test_size=0.30)"
   ]
  },
  {
   "cell_type": "code",
   "execution_count": 66,
   "metadata": {},
   "outputs": [],
   "source": [
    "from sklearn.linear_model import LogisticRegression"
   ]
  },
  {
   "cell_type": "code",
   "execution_count": 67,
   "metadata": {},
   "outputs": [
    {
     "data": {
      "text/plain": [
       "LogisticRegression(C=1.0, class_weight=None, dual=False, fit_intercept=True,\n",
       "          intercept_scaling=1, max_iter=100, multi_class='ovr', n_jobs=1,\n",
       "          penalty='l2', random_state=None, solver='liblinear', tol=0.0001,\n",
       "          verbose=0, warm_start=False)"
      ]
     },
     "execution_count": 67,
     "metadata": {},
     "output_type": "execute_result"
    }
   ],
   "source": [
    "logmodel = LogisticRegression()\n",
    "logmodel.fit(X_train,y_train)"
   ]
  },
  {
   "cell_type": "code",
   "execution_count": 68,
   "metadata": {},
   "outputs": [],
   "source": [
    "predictions = logmodel.predict(X_test)"
   ]
  },
  {
   "cell_type": "code",
   "execution_count": 74,
   "metadata": {},
   "outputs": [],
   "source": [
    "nov = df.groupby(df[\"Date_of_Booking\"].dt.to_period(\"M\")).filter(lambda x: x[\"Date_of_Booking\"].count()==2577)"
   ]
  },
  {
   "cell_type": "code",
   "execution_count": 75,
   "metadata": {},
   "outputs": [
    {
     "name": "stderr",
     "output_type": "stream",
     "text": [
      "C:\\ProgramData\\Anaconda3\\lib\\site-packages\\pandas\\core\\frame.py:3694: SettingWithCopyWarning: \n",
      "A value is trying to be set on a copy of a slice from a DataFrame\n",
      "\n",
      "See the caveats in the documentation: http://pandas.pydata.org/pandas-docs/stable/indexing.html#indexing-view-versus-copy\n",
      "  errors=errors)\n"
     ]
    }
   ],
   "source": [
    "source = pd.get_dummies(nov['Source'])\n",
    "\n",
    "nov.drop(['Source','Transaction_ID'],axis=1,inplace=True)\n",
    "\n",
    "nov = pd.concat([nov,source],axis=1)\n",
    "\n",
    "nov[\"gap\"] = nov[\"Date_of_Service_Requested\"]-nov[\"Date_of_Booking\"]\n",
    "\n",
    "nov[\"gap\"] = nov.gap.dt.days\n",
    "\n",
    "nov.drop(['Date_of_Booking','Date_of_Service_Requested'],axis=1,inplace=True)"
   ]
  },
  {
   "cell_type": "code",
   "execution_count": 83,
   "metadata": {},
   "outputs": [
    {
     "data": {
      "text/plain": [
       "array([ 9066, 14921, 14921, ...,  4210,  5431,  9066], dtype=int64)"
      ]
     },
     "execution_count": 83,
     "metadata": {},
     "output_type": "execute_result"
    }
   ],
   "source": [
    "logmodel.predict(nov.drop(\"Profile ID\",axis=1))"
   ]
  },
  {
   "cell_type": "code",
   "execution_count": 84,
   "metadata": {},
   "outputs": [],
   "source": [
    "nov[\"Prediction\"] = logmodel.predict(nov.drop(\"Profile ID\",axis=1))"
   ]
  },
  {
   "cell_type": "markdown",
   "metadata": {},
   "source": [
    "# Answer  - 4\n",
    "## 30 Day Repeat for nov 2018 using logistic regression"
   ]
  },
  {
   "cell_type": "code",
   "execution_count": 85,
   "metadata": {},
   "outputs": [
    {
     "data": {
      "text/plain": [
       "1.2029491656965465"
      ]
     },
     "execution_count": 85,
     "metadata": {},
     "output_type": "execute_result"
    }
   ],
   "source": [
    "(len(nov[\"Prediction\"].value_counts()>1))/(nov[\"Prediction\"].count())*100"
   ]
  },
  {
   "cell_type": "code",
   "execution_count": 87,
   "metadata": {},
   "outputs": [],
   "source": [
    "first = dec.append(jan)\n",
    "first = first.append(feb)"
   ]
  },
  {
   "cell_type": "markdown",
   "metadata": {},
   "source": [
    "# Answer - 5\n",
    "## Plot of distribution of users by frequency of their 90 day repeat for first 90 days"
   ]
  },
  {
   "cell_type": "markdown",
   "metadata": {},
   "source": [
    "#### P.S. - Graph is congested because of too many users and is in decreasing order"
   ]
  },
  {
   "cell_type": "code",
   "execution_count": 102,
   "metadata": {},
   "outputs": [
    {
     "data": {
      "text/plain": [
       "<matplotlib.axes._subplots.AxesSubplot at 0x1b83d9b0>"
      ]
     },
     "execution_count": 102,
     "metadata": {},
     "output_type": "execute_result"
    },
    {
     "data": {
      "image/png": "[encoded data removed]",
      "text/plain": [
       "<Figure size 1800x720 with 1 Axes>"
      ]
     },
     "metadata": {},
     "output_type": "display_data"
    }
   ],
   "source": [
    "first[\"Profile ID\"].value_counts().plot(kind = \"bar\",figsize = (25,10))"
   ]
  },
  {
   "cell_type": "code",
   "execution_count": null,
   "metadata": {},
   "outputs": [],
   "source": []
  }
 ],
 "metadata": {
  "kernelspec": {
   "display_name": "Python 3",
   "language": "python",
   "name": "python3"
  },
  "language_info": {
   "codemirror_mode": {
    "name": "ipython",
    "version": 3
   },
   "file_extension": ".py",
   "mimetype": "text/x-python",
   "name": "python",
   "nbconvert_exporter": "python",
   "pygments_lexer": "ipython3",
   "version": "3.6.5"
  }
 },
 "nbformat": 4,
 "nbformat_minor": 2
}
